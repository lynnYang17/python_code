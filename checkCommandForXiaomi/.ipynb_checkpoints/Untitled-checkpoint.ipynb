{
 "cells": [
  {
   "cell_type": "code",
   "execution_count": 1,
   "metadata": {},
   "outputs": [],
   "source": [
    "import os\n",
    "import sys\n",
    "import pandas as pd\n",
    "from pandas import Series,DataFrame"
   ]
  },
  {
   "cell_type": "code",
   "execution_count": 2,
   "metadata": {},
   "outputs": [],
   "source": [
    "def txt2df(filename):\n",
    "    file = open(filename, 'r')\n",
    "    file = file.readlines()\n",
    "    cmd_id_list = []\n",
    "    cmd_str_list = []\n",
    "    \n",
    "    cmd = {}\n",
    "    for i in file:\n",
    "        i = i.strip()\n",
    "        if 'public static final int CMDID' in i and '=' in i:\n",
    "            # print(i)\n",
    "            cmd_id = i.split('=')[1].strip()[:-1]\n",
    "            cmd_str = i.split('=')[0].strip().split(' ')[-1]\n",
    "            # print (cmd_id, cmd_str)\n",
    "            # print (cnt)\n",
    "            cmd_id_list.append(cmd_id)\n",
    "            cmd_str_list.append(cmd_str)\n",
    "\n",
    "    cmd['cmd_str'] = cmd_str_list\n",
    "    cmd['cmd_id'] = cmd_id_list\n",
    "    cmd_df = DataFrame(cmd)\n",
    "    return cmd_df\n",
    "    "
   ]
  },
  {
   "cell_type": "code",
   "execution_count": 3,
   "metadata": {},
   "outputs": [],
   "source": [
    "cmd_df_standard = txt2df('androidP.txt')\n",
    "cmd_df_process = txt2df('xmen_vfor.txt')\n"
   ]
  },
  {
   "cell_type": "code",
   "execution_count": 4,
   "metadata": {},
   "outputs": [],
   "source": [
    "cmd_df_common_str = cmd_df_standard.merge(cmd_df_process, left_on='cmd_str', right_on='cmd_str', how='outer')\n",
    "cmd_df_common_id = cmd_df_standard.merge(cmd_df_process, left_on='cmd_id', right_on='cmd_id', how='outer')\n"
   ]
  },
  {
   "cell_type": "code",
   "execution_count": 5,
   "metadata": {},
   "outputs": [
    {
     "name": "stdout",
     "output_type": "stream",
     "text": [
      "                             cmd_str cmd_id_x cmd_id_y\n",
      "95           CMDID_N_SYS_BT_MAC_READ   0x1440      NaN\n",
      "109     CMDID_N_ATTESTATION_KEY_READ   0x149D      NaN\n",
      "110    CMDID_N_ATTESTATION_KEY_WRITE   0x149E      NaN\n",
      "119  CMDID_N_ATTESTATIONKEYSIZE_READ   0x149F      NaN\n",
      "123        CMDID_N_NETFLIX_KEY_WRITE   0x1274      NaN\n",
      "124         CMDID_N_NETFLIX_KEY_READ   0x1275      NaN\n",
      "125       CMDID_N_DID_KEY_WRITE_JOBS   0x1276      NaN\n",
      "126        CMDID_N_DID_KEY_READ_JOBS   0x1277      NaN\n",
      "127                 CMDID_N_MIC_TEST   0x1453      NaN\n",
      "128           CMDID_N_GET_MIC_RESULT   0x1454      NaN\n",
      "175        CMDID_SYSTEM_SHUTDOWN_NEW   0x124f      NaN\n",
      "255         CMDID_WIFI_CONNECT_AP_IW      NaN   0x14a0\n",
      "256      CMDID_WIFI_DISCONNECT_AP_IW      NaN   0x14a1\n",
      "257         CMDID_WIFI_SET_STATIC_IP      NaN   0x14a2\n"
     ]
    }
   ],
   "source": [
    "res_df_common_str = cmd_df_common_str.loc[cmd_df_common_str['cmd_id_x'] != cmd_df_common_str['cmd_id_y']]\n",
    "print(res_df_common_str)"
   ]
  },
  {
   "cell_type": "code",
   "execution_count": 6,
   "metadata": {},
   "outputs": [
    {
     "name": "stdout",
     "output_type": "stream",
     "text": [
      "                           cmd_str_x  cmd_id                    cmd_str_y\n",
      "95           CMDID_N_SYS_BT_MAC_READ  0x1440                          NaN\n",
      "109     CMDID_N_ATTESTATION_KEY_READ  0x149D                          NaN\n",
      "110    CMDID_N_ATTESTATION_KEY_WRITE  0x149E                          NaN\n",
      "119  CMDID_N_ATTESTATIONKEYSIZE_READ  0x149F                          NaN\n",
      "123        CMDID_N_NETFLIX_KEY_WRITE  0x1274                          NaN\n",
      "124         CMDID_N_NETFLIX_KEY_READ  0x1275                          NaN\n",
      "125       CMDID_N_DID_KEY_WRITE_JOBS  0x1276                          NaN\n",
      "126        CMDID_N_DID_KEY_READ_JOBS  0x1277                          NaN\n",
      "127                 CMDID_N_MIC_TEST  0x1453                          NaN\n",
      "128           CMDID_N_GET_MIC_RESULT  0x1454                          NaN\n",
      "175        CMDID_SYSTEM_SHUTDOWN_NEW  0x124f                          NaN\n",
      "255                              NaN  0x14a0     CMDID_WIFI_CONNECT_AP_IW\n",
      "256                              NaN  0x14a1  CMDID_WIFI_DISCONNECT_AP_IW\n",
      "257                              NaN  0x14a2     CMDID_WIFI_SET_STATIC_IP\n"
     ]
    }
   ],
   "source": [
    "res_df_common_id = cmd_df_common_id.loc[cmd_df_common_id['cmd_str_x'] != cmd_df_common_id['cmd_str_y']]\n",
    "print(res_df_common_id)"
   ]
  },
  {
   "cell_type": "code",
   "execution_count": null,
   "metadata": {},
   "outputs": [],
   "source": []
  }
 ],
 "metadata": {
  "kernelspec": {
   "display_name": "Python 3",
   "language": "python",
   "name": "python3"
  },
  "language_info": {
   "codemirror_mode": {
    "name": "ipython",
    "version": 3
   },
   "file_extension": ".py",
   "mimetype": "text/x-python",
   "name": "python",
   "nbconvert_exporter": "python",
   "pygments_lexer": "ipython3",
   "version": "3.6.5"
  }
 },
 "nbformat": 4,
 "nbformat_minor": 2
}
